{
 "cells": [
  {
   "cell_type": "code",
   "execution_count": 13,
   "metadata": {},
   "outputs": [],
   "source": [
    "from sqlconnector import SQLConnector\n",
    "import os\n",
    "import pandas as pd\n",
    "\n",
    "machineJsonFile = 'machines.json'\n",
    "accessoriesJsonFile = 'machine-accessories.json'\n",
    "\n",
    "firebaseImportPrg = 'C:\\\\Users\\\\loser.ralph\\\\workspace\\\\mhm-firebase-import'\n",
    "databaseFilePath = 'database-files'\n",
    "importPrg = 'json-to-firestore.js'"
   ]
  },
  {
   "cell_type": "code",
   "execution_count": 14,
   "metadata": {},
   "outputs": [
    {
     "name": "stdout",
     "output_type": "stream",
     "text": [
      "          itemNo                             descrGER  \\\n",
      "0  20-0-0-0017-0        Rakelaufnahmeschiene komplett   \n",
      "1  20-0-0-0096-0  Siebaufnahme U-Profil Y-Achse 50x70   \n",
      "2  20-0-0-0096-0  Siebaufnahme U-Profil Y-Achse 50x70   \n",
      "3  20-0-0-0096-0  Siebaufnahme U-Profil Y-Achse 50x70   \n",
      "4  20-0-0-0096-0  Siebaufnahme U-Profil Y-Achse 50x70   \n",
      "\n",
      "                      descrENG quantity                   machineFamily sort  \\\n",
      "0  squeegee pivot bar complete       ST            Maschine SP5000 AUTO    1   \n",
      "1  U-profile adapter bar 50x70       ST         Maschine SP5000 Manuell    1   \n",
      "2  U-profile adapter bar 50x70       ST            Maschine SP5000 AUTO    1   \n",
      "3  U-profile adapter bar 50x70       ST  Maschine SP5000 Manuell VAKUUM    1   \n",
      "4  U-profile adapter bar 50x70       ST     Maschine SP5000 AUTO VAKUUM    1   \n",
      "\n",
      "   listPrice  \n",
      "0       84.0  \n",
      "1       73.0  \n",
      "2       73.0  \n",
      "3       73.0  \n",
      "4       73.0  \n"
     ]
    }
   ],
   "source": [
    "\n",
    "sqlConnector = SQLConnector('copyManager', '|~qpc,wm*of/=%\"$i7h!i; m2~i4vab^')\n",
    "conn = sqlConnector.create_connection()\n",
    "\n",
    "## Artikel Abfrage\n",
    "articleQuery = 'select AATR.[No_] as \\'itemNo\\',ART.[Description] as \\'descrGER\\',ENU.[Description] as \\'descrENG\\',ART.[Base Unit of Measure] as \\'quantity\\',BATR.[Name] as \\'machineFamily\\',CATR.[Value] as \\'sort\\', ART.[Unit Price] as \\'listPrice\\' from [MHM$Item Attribute Value Mapping] as AATR join [MHM$Item Attribute] as BATR on AATR.[Item Attribute ID] = BATR.[ID] join [MHM$Item Attribute Value] as CATR on CATR.[Attribute ID] = AATR.[Item Attribute ID] join [MHM$Item] as ART on AATR.[No_] = ART.[No_] join [MHM$Item Translation] as ENU on AATR.[No_] = ENU.[Item No_] where (AATR.[Item Attribute ID] < 39) and (ENU.[Language Code] = \\'ENU\\') and (AATR.[Item Attribute Value ID] = CATR.[ID]) order by AATR.[No_] asc'\n",
    "\n",
    "df = pd.read_sql(articleQuery, conn)\n",
    "print(df.head())\n",
    "machine_accessory = df[df['machineFamily'].str.contains(\"Maschine Zubehör\")]\n",
    "machine_accessory.set_index('itemNo', inplace=True)"
   ]
  },
  {
   "cell_type": "code",
   "execution_count": 15,
   "metadata": {},
   "outputs": [],
   "source": [
    "#negated\n",
    "#Machine accessories with machine family as array\n",
    "machines = df[~df['machineFamily'].str.contains(\"Maschine Zubehör\")]\n",
    "\n",
    "grouped_machine_family = machines.groupby(['itemNo']).machineFamily.apply(';'.join).to_frame()\n",
    "\n",
    "accessories = df[df['machineFamily'].str.contains(\"Maschine Zubehör\")]\n",
    "\n",
    "merged = pd.merge(accessories, grouped_machine_family, on=['itemNo'])\n",
    "merged.drop('machineFamily_x', axis=1, inplace=True)\n",
    "merged.rename(columns={'machineFamily_y': 'machineFamily'}, inplace=True)\n",
    "merged['machineFamily'] = merged['machineFamily'].str.replace('Maschine ', '')\n",
    "merged['listPrice'] = merged['listPrice'].round(2)"
   ]
  },
  {
   "cell_type": "code",
   "execution_count": 16,
   "metadata": {
    "tags": []
   },
   "outputs": [],
   "source": [
    "import json\n",
    "res = json.loads(merged.to_json(orient='records'))\n",
    "with open(firebaseImportPrg + os.sep + databaseFilePath + os.sep + accessoriesJsonFile, 'w') as outfile:\n",
    "    json.dump(res, outfile)"
   ]
  },
  {
   "cell_type": "code",
   "execution_count": 17,
   "metadata": {},
   "outputs": [],
   "source": [
    "####################################################################################\n",
    "########################### M a c h i n e s ########################################\n",
    "####################################################################################"
   ]
  },
  {
   "cell_type": "code",
   "execution_count": 18,
   "metadata": {
    "tags": []
   },
   "outputs": [],
   "source": [
    "machines = df[df['itemNo'].str.startswith('S')]\n",
    "machines = machines.rename(columns={'sort': 'tableNo'})\n",
    "\n",
    "machines['machineFamily'] = machines['machineFamily'].str.replace('Maschine ', '')\n",
    "\n",
    "machineFamilies = machines[~machines['machineFamily'].str.match('(Anzahl Tische)|[0-9]{2,3}x[0-9]{2,3}')][['itemNo', 'machineFamily']]\n",
    "machineFamilies = machineFamilies.set_index('itemNo')"
   ]
  },
  {
   "cell_type": "code",
   "execution_count": 19,
   "metadata": {},
   "outputs": [],
   "source": [
    "tableNumbers = machines[machines['machineFamily'].str.contains('Anzahl Tische')][['itemNo', 'tableNo']]\n",
    "tableNumbers = tableNumbers.set_index('itemNo')"
   ]
  },
  {
   "cell_type": "code",
   "execution_count": 20,
   "metadata": {},
   "outputs": [
    {
     "name": "stderr",
     "output_type": "stream",
     "text": [
      "C:\\Users\\LOSER~1.RAL\\AppData\\Local\\Temp/ipykernel_52200/4171649076.py:2: SettingWithCopyWarning: \n",
      "A value is trying to be set on a copy of a slice from a DataFrame.\n",
      "Try using .loc[row_indexer,col_indexer] = value instead\n",
      "\n",
      "See the caveats in the documentation: https://pandas.pydata.org/pandas-docs/stable/user_guide/indexing.html#returning-a-view-versus-a-copy\n",
      "  printSizes['machineFamily'] = printSizes['machineFamily'].str.replace('Maschine ', '')\n",
      "c:\\Python310\\lib\\site-packages\\pandas\\core\\frame.py:5039: SettingWithCopyWarning: \n",
      "A value is trying to be set on a copy of a slice from a DataFrame\n",
      "\n",
      "See the caveats in the documentation: https://pandas.pydata.org/pandas-docs/stable/user_guide/indexing.html#returning-a-view-versus-a-copy\n",
      "  return super().rename(\n"
     ]
    }
   ],
   "source": [
    "printSizes = df[df['itemNo'].str.startswith('S')]\n",
    "printSizes['machineFamily'] = printSizes['machineFamily'].str.replace('Maschine ', '')\n",
    "printSizes.rename(columns={'machineFamily': 'printSize'}, inplace=True)\n",
    "printSizes = printSizes[printSizes['printSize'].str.match('[0-9]{2,3}x[0-9]{2,3}')][['itemNo', 'printSize']]\n",
    "printSizes.set_index('itemNo', inplace=True)"
   ]
  },
  {
   "cell_type": "code",
   "execution_count": 21,
   "metadata": {},
   "outputs": [],
   "source": [
    "machines.drop('machineFamily', inplace=True, axis=1)\n",
    "machines2 = pd.merge(machines, machineFamilies,  on=['itemNo'])\n",
    "machines2 = pd.merge(machines2, printSizes, on=['itemNo'])"
   ]
  },
  {
   "cell_type": "code",
   "execution_count": 22,
   "metadata": {},
   "outputs": [],
   "source": [
    "machines2.drop('tableNo', inplace=True, axis=1)\n",
    "machines3 = pd.merge(machines2, tableNumbers, on=['itemNo'])\n"
   ]
  },
  {
   "cell_type": "code",
   "execution_count": 23,
   "metadata": {},
   "outputs": [
    {
     "name": "stdout",
     "output_type": "stream",
     "text": [
      "<module 'ntpath' from 'c:\\\\Python310\\\\lib\\\\ntpath.py'>\n"
     ]
    },
    {
     "data": {
      "text/html": [
       "<div>\n",
       "<style scoped>\n",
       "    .dataframe tbody tr th:only-of-type {\n",
       "        vertical-align: middle;\n",
       "    }\n",
       "\n",
       "    .dataframe tbody tr th {\n",
       "        vertical-align: top;\n",
       "    }\n",
       "\n",
       "    .dataframe thead th {\n",
       "        text-align: right;\n",
       "    }\n",
       "</style>\n",
       "<table border=\"1\" class=\"dataframe\">\n",
       "  <thead>\n",
       "    <tr style=\"text-align: right;\">\n",
       "      <th></th>\n",
       "      <th>itemNo</th>\n",
       "      <th>descrGER</th>\n",
       "      <th>descrENG</th>\n",
       "      <th>quantity</th>\n",
       "      <th>listPrice</th>\n",
       "      <th>machineFamily</th>\n",
       "      <th>printSize</th>\n",
       "      <th>tableNo</th>\n",
       "    </tr>\n",
       "  </thead>\n",
       "  <tbody>\n",
       "    <tr>\n",
       "      <th>0</th>\n",
       "      <td>SI4-50X70</td>\n",
       "      <td>Single Print Station 50x70cm [gesperrt]</td>\n",
       "      <td>single print station 50x70 cm</td>\n",
       "      <td>ST</td>\n",
       "      <td>11467.0</td>\n",
       "      <td>Single Print WAND</td>\n",
       "      <td>50x70</td>\n",
       "      <td>1</td>\n",
       "    </tr>\n",
       "    <tr>\n",
       "      <th>3</th>\n",
       "      <td>SI4-50X70DP</td>\n",
       "      <td>Single Print Station double pallet 50x70cm</td>\n",
       "      <td>single print station double pallet 50x70cm</td>\n",
       "      <td>ST</td>\n",
       "      <td>11100.0</td>\n",
       "      <td>Single Print WAND</td>\n",
       "      <td>50x70</td>\n",
       "      <td>2</td>\n",
       "    </tr>\n",
       "    <tr>\n",
       "      <th>6</th>\n",
       "      <td>SI4-50X70DPV</td>\n",
       "      <td>Single Print Station double pallet 50x70cm Vakuum</td>\n",
       "      <td>single print station double pallet 50x70cm vacuum</td>\n",
       "      <td>ST</td>\n",
       "      <td>15100.0</td>\n",
       "      <td>Single Print WAND VAKUUM</td>\n",
       "      <td>50x70</td>\n",
       "      <td>2</td>\n",
       "    </tr>\n",
       "    <tr>\n",
       "      <th>9</th>\n",
       "      <td>SI4-50X70W</td>\n",
       "      <td>Single Print Station fahrbar 50x70cm</td>\n",
       "      <td>single print station moveable 50x70</td>\n",
       "      <td>ST</td>\n",
       "      <td>8100.0</td>\n",
       "      <td>Single Print FAHRBAR</td>\n",
       "      <td>50x70</td>\n",
       "      <td>1</td>\n",
       "    </tr>\n",
       "    <tr>\n",
       "      <th>12</th>\n",
       "      <td>SI4-50X70WV</td>\n",
       "      <td>Single Print Station fahrbar 50x70 Vakuum</td>\n",
       "      <td>single print station moveable vacuum 50x70</td>\n",
       "      <td>ST</td>\n",
       "      <td>9300.0</td>\n",
       "      <td>Single Print FAHRBAR VAKUUM</td>\n",
       "      <td>50x70</td>\n",
       "      <td>1</td>\n",
       "    </tr>\n",
       "  </tbody>\n",
       "</table>\n",
       "</div>"
      ],
      "text/plain": [
       "          itemNo                                           descrGER  \\\n",
       "0      SI4-50X70            Single Print Station 50x70cm [gesperrt]   \n",
       "3    SI4-50X70DP         Single Print Station double pallet 50x70cm   \n",
       "6   SI4-50X70DPV  Single Print Station double pallet 50x70cm Vakuum   \n",
       "9     SI4-50X70W               Single Print Station fahrbar 50x70cm   \n",
       "12   SI4-50X70WV          Single Print Station fahrbar 50x70 Vakuum   \n",
       "\n",
       "                                             descrENG quantity  listPrice  \\\n",
       "0                       single print station 50x70 cm       ST    11467.0   \n",
       "3          single print station double pallet 50x70cm       ST    11100.0   \n",
       "6   single print station double pallet 50x70cm vacuum       ST    15100.0   \n",
       "9                 single print station moveable 50x70       ST     8100.0   \n",
       "12         single print station moveable vacuum 50x70       ST     9300.0   \n",
       "\n",
       "                  machineFamily printSize tableNo  \n",
       "0             Single Print WAND     50x70       1  \n",
       "3             Single Print WAND     50x70       2  \n",
       "6      Single Print WAND VAKUUM     50x70       2  \n",
       "9          Single Print FAHRBAR     50x70       1  \n",
       "12  Single Print FAHRBAR VAKUUM     50x70       1  "
      ]
     },
     "execution_count": 23,
     "metadata": {},
     "output_type": "execute_result"
    }
   ],
   "source": [
    "machines3 = machines3.drop_duplicates(subset=['itemNo'])\n",
    "res = json.loads(machines3.to_json(orient='records'))\n",
    "print(os.path)\n",
    "with open(firebaseImportPrg + os.sep + databaseFilePath + os.sep + machineJsonFile, 'w') as outfile:\n",
    "    json.dump(res, outfile)\n",
    "\n",
    "machines3.head()"
   ]
  },
  {
   "cell_type": "code",
   "execution_count": 24,
   "metadata": {},
   "outputs": [
    {
     "ename": "KeyboardInterrupt",
     "evalue": "",
     "output_type": "error",
     "traceback": [
      "\u001b[1;31m---------------------------------------------------------------------------\u001b[0m",
      "\u001b[1;31mKeyboardInterrupt\u001b[0m                         Traceback (most recent call last)",
      "\u001b[1;32mC:\\Users\\LOSER~1.RAL\\AppData\\Local\\Temp/ipykernel_52200/1227143675.py\u001b[0m in \u001b[0;36m<module>\u001b[1;34m\u001b[0m\n\u001b[0;32m      1\u001b[0m \u001b[1;32mimport\u001b[0m \u001b[0msubprocess\u001b[0m\u001b[1;33m\u001b[0m\u001b[1;33m\u001b[0m\u001b[0m\n\u001b[0;32m      2\u001b[0m \u001b[0mimport_process\u001b[0m \u001b[1;33m=\u001b[0m \u001b[0msubprocess\u001b[0m\u001b[1;33m.\u001b[0m\u001b[0mPopen\u001b[0m\u001b[1;33m(\u001b[0m\u001b[1;33m[\u001b[0m\u001b[1;34m'node'\u001b[0m\u001b[1;33m,\u001b[0m \u001b[0mfirebaseImportPrg\u001b[0m \u001b[1;33m+\u001b[0m \u001b[0mos\u001b[0m\u001b[1;33m.\u001b[0m\u001b[0msep\u001b[0m \u001b[1;33m+\u001b[0m \u001b[0mimportPrg\u001b[0m\u001b[1;33m]\u001b[0m\u001b[1;33m,\u001b[0m \u001b[0mstdout\u001b[0m\u001b[1;33m=\u001b[0m\u001b[0msubprocess\u001b[0m\u001b[1;33m.\u001b[0m\u001b[0mPIPE\u001b[0m\u001b[1;33m,\u001b[0m \u001b[0mstderr\u001b[0m\u001b[1;33m=\u001b[0m\u001b[0msubprocess\u001b[0m\u001b[1;33m.\u001b[0m\u001b[0mPIPE\u001b[0m\u001b[1;33m)\u001b[0m\u001b[1;33m\u001b[0m\u001b[1;33m\u001b[0m\u001b[0m\n\u001b[1;32m----> 3\u001b[1;33m \u001b[0mstdout\u001b[0m\u001b[1;33m,\u001b[0m\u001b[0mstderr\u001b[0m \u001b[1;33m=\u001b[0m \u001b[0mimport_process\u001b[0m\u001b[1;33m.\u001b[0m\u001b[0mcommunicate\u001b[0m\u001b[1;33m(\u001b[0m\u001b[1;33m)\u001b[0m\u001b[1;33m\u001b[0m\u001b[1;33m\u001b[0m\u001b[0m\n\u001b[0m\u001b[0;32m      4\u001b[0m \u001b[1;33m\u001b[0m\u001b[0m\n\u001b[0;32m      5\u001b[0m \u001b[0mstderr\u001b[0m\u001b[1;33m\u001b[0m\u001b[1;33m\u001b[0m\u001b[0m\n",
      "\u001b[1;32mc:\\Python310\\lib\\subprocess.py\u001b[0m in \u001b[0;36mcommunicate\u001b[1;34m(self, input, timeout)\u001b[0m\n\u001b[0;32m   1147\u001b[0m \u001b[1;33m\u001b[0m\u001b[0m\n\u001b[0;32m   1148\u001b[0m             \u001b[1;32mtry\u001b[0m\u001b[1;33m:\u001b[0m\u001b[1;33m\u001b[0m\u001b[1;33m\u001b[0m\u001b[0m\n\u001b[1;32m-> 1149\u001b[1;33m                 \u001b[0mstdout\u001b[0m\u001b[1;33m,\u001b[0m \u001b[0mstderr\u001b[0m \u001b[1;33m=\u001b[0m \u001b[0mself\u001b[0m\u001b[1;33m.\u001b[0m\u001b[0m_communicate\u001b[0m\u001b[1;33m(\u001b[0m\u001b[0minput\u001b[0m\u001b[1;33m,\u001b[0m \u001b[0mendtime\u001b[0m\u001b[1;33m,\u001b[0m \u001b[0mtimeout\u001b[0m\u001b[1;33m)\u001b[0m\u001b[1;33m\u001b[0m\u001b[1;33m\u001b[0m\u001b[0m\n\u001b[0m\u001b[0;32m   1150\u001b[0m             \u001b[1;32mexcept\u001b[0m \u001b[0mKeyboardInterrupt\u001b[0m\u001b[1;33m:\u001b[0m\u001b[1;33m\u001b[0m\u001b[1;33m\u001b[0m\u001b[0m\n\u001b[0;32m   1151\u001b[0m                 \u001b[1;31m# https://bugs.python.org/issue25942\u001b[0m\u001b[1;33m\u001b[0m\u001b[1;33m\u001b[0m\u001b[0m\n",
      "\u001b[1;32mc:\\Python310\\lib\\subprocess.py\u001b[0m in \u001b[0;36m_communicate\u001b[1;34m(self, input, endtime, orig_timeout)\u001b[0m\n\u001b[0;32m   1521\u001b[0m             \u001b[1;31m# calls communicate again.\u001b[0m\u001b[1;33m\u001b[0m\u001b[1;33m\u001b[0m\u001b[0m\n\u001b[0;32m   1522\u001b[0m             \u001b[1;32mif\u001b[0m \u001b[0mself\u001b[0m\u001b[1;33m.\u001b[0m\u001b[0mstdout\u001b[0m \u001b[1;32mis\u001b[0m \u001b[1;32mnot\u001b[0m \u001b[1;32mNone\u001b[0m\u001b[1;33m:\u001b[0m\u001b[1;33m\u001b[0m\u001b[1;33m\u001b[0m\u001b[0m\n\u001b[1;32m-> 1523\u001b[1;33m                 \u001b[0mself\u001b[0m\u001b[1;33m.\u001b[0m\u001b[0mstdout_thread\u001b[0m\u001b[1;33m.\u001b[0m\u001b[0mjoin\u001b[0m\u001b[1;33m(\u001b[0m\u001b[0mself\u001b[0m\u001b[1;33m.\u001b[0m\u001b[0m_remaining_time\u001b[0m\u001b[1;33m(\u001b[0m\u001b[0mendtime\u001b[0m\u001b[1;33m)\u001b[0m\u001b[1;33m)\u001b[0m\u001b[1;33m\u001b[0m\u001b[1;33m\u001b[0m\u001b[0m\n\u001b[0m\u001b[0;32m   1524\u001b[0m                 \u001b[1;32mif\u001b[0m \u001b[0mself\u001b[0m\u001b[1;33m.\u001b[0m\u001b[0mstdout_thread\u001b[0m\u001b[1;33m.\u001b[0m\u001b[0mis_alive\u001b[0m\u001b[1;33m(\u001b[0m\u001b[1;33m)\u001b[0m\u001b[1;33m:\u001b[0m\u001b[1;33m\u001b[0m\u001b[1;33m\u001b[0m\u001b[0m\n\u001b[0;32m   1525\u001b[0m                     \u001b[1;32mraise\u001b[0m \u001b[0mTimeoutExpired\u001b[0m\u001b[1;33m(\u001b[0m\u001b[0mself\u001b[0m\u001b[1;33m.\u001b[0m\u001b[0margs\u001b[0m\u001b[1;33m,\u001b[0m \u001b[0morig_timeout\u001b[0m\u001b[1;33m)\u001b[0m\u001b[1;33m\u001b[0m\u001b[1;33m\u001b[0m\u001b[0m\n",
      "\u001b[1;32mc:\\Python310\\lib\\threading.py\u001b[0m in \u001b[0;36mjoin\u001b[1;34m(self, timeout)\u001b[0m\n\u001b[0;32m   1087\u001b[0m \u001b[1;33m\u001b[0m\u001b[0m\n\u001b[0;32m   1088\u001b[0m         \u001b[1;32mif\u001b[0m \u001b[0mtimeout\u001b[0m \u001b[1;32mis\u001b[0m \u001b[1;32mNone\u001b[0m\u001b[1;33m:\u001b[0m\u001b[1;33m\u001b[0m\u001b[1;33m\u001b[0m\u001b[0m\n\u001b[1;32m-> 1089\u001b[1;33m             \u001b[0mself\u001b[0m\u001b[1;33m.\u001b[0m\u001b[0m_wait_for_tstate_lock\u001b[0m\u001b[1;33m(\u001b[0m\u001b[1;33m)\u001b[0m\u001b[1;33m\u001b[0m\u001b[1;33m\u001b[0m\u001b[0m\n\u001b[0m\u001b[0;32m   1090\u001b[0m         \u001b[1;32melse\u001b[0m\u001b[1;33m:\u001b[0m\u001b[1;33m\u001b[0m\u001b[1;33m\u001b[0m\u001b[0m\n\u001b[0;32m   1091\u001b[0m             \u001b[1;31m# the behavior of a negative timeout isn't documented, but\u001b[0m\u001b[1;33m\u001b[0m\u001b[1;33m\u001b[0m\u001b[0m\n",
      "\u001b[1;32mc:\\Python310\\lib\\threading.py\u001b[0m in \u001b[0;36m_wait_for_tstate_lock\u001b[1;34m(self, block, timeout)\u001b[0m\n\u001b[0;32m   1103\u001b[0m         \u001b[1;32mif\u001b[0m \u001b[0mlock\u001b[0m \u001b[1;32mis\u001b[0m \u001b[1;32mNone\u001b[0m\u001b[1;33m:\u001b[0m  \u001b[1;31m# already determined that the C code is done\u001b[0m\u001b[1;33m\u001b[0m\u001b[1;33m\u001b[0m\u001b[0m\n\u001b[0;32m   1104\u001b[0m             \u001b[1;32massert\u001b[0m \u001b[0mself\u001b[0m\u001b[1;33m.\u001b[0m\u001b[0m_is_stopped\u001b[0m\u001b[1;33m\u001b[0m\u001b[1;33m\u001b[0m\u001b[0m\n\u001b[1;32m-> 1105\u001b[1;33m         \u001b[1;32melif\u001b[0m \u001b[0mlock\u001b[0m\u001b[1;33m.\u001b[0m\u001b[0macquire\u001b[0m\u001b[1;33m(\u001b[0m\u001b[0mblock\u001b[0m\u001b[1;33m,\u001b[0m \u001b[0mtimeout\u001b[0m\u001b[1;33m)\u001b[0m\u001b[1;33m:\u001b[0m\u001b[1;33m\u001b[0m\u001b[1;33m\u001b[0m\u001b[0m\n\u001b[0m\u001b[0;32m   1106\u001b[0m             \u001b[0mlock\u001b[0m\u001b[1;33m.\u001b[0m\u001b[0mrelease\u001b[0m\u001b[1;33m(\u001b[0m\u001b[1;33m)\u001b[0m\u001b[1;33m\u001b[0m\u001b[1;33m\u001b[0m\u001b[0m\n\u001b[0;32m   1107\u001b[0m             \u001b[0mself\u001b[0m\u001b[1;33m.\u001b[0m\u001b[0m_stop\u001b[0m\u001b[1;33m(\u001b[0m\u001b[1;33m)\u001b[0m\u001b[1;33m\u001b[0m\u001b[1;33m\u001b[0m\u001b[0m\n",
      "\u001b[1;31mKeyboardInterrupt\u001b[0m: "
     ]
    }
   ],
   "source": [
    "import subprocess\n",
    "import_process = subprocess.Popen(['node', firebaseImportPrg + os.sep + importPrg], stdout=subprocess.PIPE, stderr=subprocess.PIPE)\n",
    "stdout,stderr = import_process.communicate()\n",
    "\n",
    "stderr"
   ]
  }
 ],
 "metadata": {
  "kernelspec": {
   "display_name": "Python 3.10.0 64-bit",
   "language": "python",
   "name": "python3"
  },
  "language_info": {
   "codemirror_mode": {
    "name": "ipython",
    "version": 3
   },
   "file_extension": ".py",
   "mimetype": "text/x-python",
   "name": "python",
   "nbconvert_exporter": "python",
   "pygments_lexer": "ipython3",
   "version": "3.10.0"
  },
  "metadata": {
   "interpreter": {
    "hash": "4c32400ee4ce0e903acbfbda8ea0c4d83ef0a7734dfabe499369749e7f6c663a"
   }
  },
  "orig_nbformat": 2,
  "vscode": {
   "interpreter": {
    "hash": "369f2c481f4da34e4445cda3fffd2e751bd1c4d706f27375911949ba6bb62e1c"
   }
  }
 },
 "nbformat": 4,
 "nbformat_minor": 2
}
