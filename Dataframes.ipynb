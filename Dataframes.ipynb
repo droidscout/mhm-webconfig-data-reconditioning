{
 "cells": [
  {
   "cell_type": "code",
   "execution_count": 12,
   "metadata": {},
   "outputs": [],
   "source": [
    "from sqlconnector import SQLConnector\n",
    "import os\n",
    "import pandas as pd\n",
    "\n",
    "machineJsonFile = 'machines.json'\n",
    "accessoriesJsonFile = 'machine-accessories.json'\n",
    "\n",
    "firebaseImportPrg = 'C:\\\\Users\\\\loser.ralph\\\\source\\\\repos\\\\droidscout\\\\MHM-Config\\\\Firebase-Import'\n",
    "databaseFilePath = 'database-files'\n",
    "importPrg = 'json-to-firestore.js'"
   ]
  },
  {
   "cell_type": "code",
   "execution_count": 13,
   "metadata": {},
   "outputs": [],
   "source": [
    "\n",
    "sqlConnector = SQLConnector('copyManager', '|~qpc,wm*of/=%\"$i7h!i; m2~i4vab^')\n",
    "conn = sqlConnector.create_connection()\n",
    "\n",
    "## Artikel Abfrage\n",
    "articleQuery = 'select AATR.[No_] as \\'itemNo\\',ART.[Description] as \\'descrGER\\',ENU.[Description] as \\'descrENG\\',ART.[Base Unit of Measure] as \\'quantity\\',BATR.[Name] as \\'machineFamily\\',CATR.[Value] as \\'sort\\', ART.[Unit Cost] as \\'listPrice\\' from [MHM$Item Attribute Value Mapping] as AATR join [MHM$Item Attribute] as BATR on AATR.[Item Attribute ID] = BATR.[ID] join [MHM$Item Attribute Value] as CATR on CATR.[Attribute ID] = AATR.[Item Attribute ID] join [MHM$Item] as ART on AATR.[No_] = ART.[No_] join [MHM$Item Translation] as ENU on AATR.[No_] = ENU.[Item No_] where (AATR.[Item Attribute ID] < 39) and (ENU.[Language Code] = \\'ENU\\') and (AATR.[Item Attribute Value ID] = CATR.[ID]) order by AATR.[No_] asc'\n",
    "\n",
    "df = pd.read_sql(articleQuery, conn)\n",
    "\n",
    "machine_accessory = df[df['machineFamily'].str.contains(\"Maschine Zubehör\")]\n",
    "machine_accessory.set_index('itemNo', inplace=True)"
   ]
  },
  {
   "cell_type": "code",
   "execution_count": 14,
   "metadata": {},
   "outputs": [],
   "source": [
    "#negated\n",
    "#Machine accessories with machine family as array\n",
    "machines = df[~df['machineFamily'].str.contains(\"Maschine Zubehör\")]\n",
    "\n",
    "grouped_machine_family = machines.groupby(['itemNo']).machineFamily.apply(';'.join).to_frame()\n",
    "\n",
    "accessories = df[df['machineFamily'].str.contains(\"Maschine Zubehör\")]\n",
    "\n",
    "merged = pd.merge(accessories, grouped_machine_family, on=['itemNo'])\n",
    "merged.drop('machineFamily_x', axis=1, inplace=True)\n",
    "merged.rename(columns={'machineFamily_y': 'machineFamily'}, inplace=True)\n",
    "merged['machineFamily'] = merged['machineFamily'].str.replace('Maschine ', '')\n",
    "merged['listPrice'] = merged['listPrice'].round(2)"
   ]
  },
  {
   "cell_type": "code",
   "execution_count": 15,
   "metadata": {
    "tags": []
   },
   "outputs": [],
   "source": [
    "import json\n",
    "res = json.loads(merged.to_json(orient='records'))\n",
    "with open(firebaseImportPrg + os.sep + databaseFilePath + os.sep + accessoriesJsonFile, 'w') as outfile:\n",
    "    json.dump(res, outfile)"
   ]
  },
  {
   "cell_type": "code",
   "execution_count": 16,
   "metadata": {},
   "outputs": [],
   "source": [
    "####################################################################################\n",
    "########################### M a c h i n e s ########################################\n",
    "####################################################################################"
   ]
  },
  {
   "cell_type": "code",
   "execution_count": 17,
   "metadata": {
    "tags": []
   },
   "outputs": [],
   "source": [
    "machines = df[df['itemNo'].str.startswith('S')]\n",
    "machines = machines.rename(columns={'sort': 'tableNo'})\n",
    "\n",
    "machines['machineFamily'] = machines['machineFamily'].str.replace('Maschine ', '')\n",
    "\n",
    "machineFamilies = machines[~machines['machineFamily'].str.match('(Anzahl Tische)|[0-9]{2,3}x[0-9]{2,3}')][['itemNo', 'machineFamily']]\n",
    "machineFamilies = machineFamilies.set_index('itemNo')"
   ]
  },
  {
   "cell_type": "code",
   "execution_count": 18,
   "metadata": {},
   "outputs": [],
   "source": [
    "tableNumbers = machines[machines['machineFamily'].str.contains('Anzahl Tische')][['itemNo', 'tableNo']]\n",
    "tableNumbers = tableNumbers.set_index('itemNo')"
   ]
  },
  {
   "cell_type": "code",
   "execution_count": 19,
   "metadata": {},
   "outputs": [
    {
     "name": "stderr",
     "output_type": "stream",
     "text": [
      "<ipython-input-19-69c3272c05dc>:2: SettingWithCopyWarning: \n",
      "A value is trying to be set on a copy of a slice from a DataFrame.\n",
      "Try using .loc[row_indexer,col_indexer] = value instead\n",
      "\n",
      "See the caveats in the documentation: https://pandas.pydata.org/pandas-docs/stable/user_guide/indexing.html#returning-a-view-versus-a-copy\n",
      "  printSizes['machineFamily'] = printSizes['machineFamily'].str.replace('Maschine ', '')\n"
     ]
    }
   ],
   "source": [
    "printSizes = df[df['itemNo'].str.startswith('S')]\n",
    "printSizes['machineFamily'] = printSizes['machineFamily'].str.replace('Maschine ', '')\n",
    "printSizes.rename(columns={'machineFamily': 'printSize'}, inplace=True)\n",
    "printSizes = printSizes[printSizes['printSize'].str.match('[0-9]{2,3}x[0-9]{2,3}')][['itemNo', 'printSize']]\n",
    "printSizes.set_index('itemNo', inplace=True)"
   ]
  },
  {
   "cell_type": "code",
   "execution_count": 20,
   "metadata": {},
   "outputs": [],
   "source": [
    "machines.drop('machineFamily', inplace=True, axis=1)\n",
    "machines2 = pd.merge(machines, machineFamilies,  on=['itemNo'])\n",
    "machines2 = pd.merge(machines2, printSizes, on=['itemNo'])"
   ]
  },
  {
   "cell_type": "code",
   "execution_count": 21,
   "metadata": {},
   "outputs": [],
   "source": [
    "machines2.drop('tableNo', inplace=True, axis=1)\n",
    "machines3 = pd.merge(machines2, tableNumbers, on=['itemNo'])\n"
   ]
  },
  {
   "cell_type": "code",
   "execution_count": 22,
   "metadata": {},
   "outputs": [],
   "source": [
    "machines3 = machines3.drop_duplicates(subset=['itemNo'])\n",
    "\n",
    "res = json.loads(machines3.to_json(orient='records'))\n",
    "with open(firebaseImportPrg + os.sep + databaseFilePath + os.sep + machineJsonFile, 'w') as outfile:\n",
    "    json.dump(res, outfile)"
   ]
  },
  {
   "cell_type": "code",
   "execution_count": 23,
   "metadata": {},
   "outputs": [
    {
     "data": {
      "text/plain": [
       "b''"
      ]
     },
     "execution_count": 23,
     "metadata": {},
     "output_type": "execute_result"
    }
   ],
   "source": [
    "import subprocess\n",
    "import_process = subprocess.Popen(['node', firebaseImportPrg + os.sep + importPrg], stdout=subprocess.PIPE, stderr=subprocess.PIPE)\n",
    "stdout,stderr = import_process.communicate()\n",
    "stderr\n"
   ]
  }
 ],
 "metadata": {
  "interpreter": {
   "hash": "4c32400ee4ce0e903acbfbda8ea0c4d83ef0a7734dfabe499369749e7f6c663a"
  },
  "kernelspec": {
   "display_name": "Python 3.9.1 64-bit ('recond': venv)",
   "name": "python3"
  },
  "language_info": {
   "codemirror_mode": {
    "name": "ipython",
    "version": 3
   },
   "file_extension": ".py",
   "mimetype": "text/x-python",
   "name": "python",
   "nbconvert_exporter": "python",
   "pygments_lexer": "ipython3",
   "version": "3.9.1"
  },
  "metadata": {
   "interpreter": {
    "hash": "4c32400ee4ce0e903acbfbda8ea0c4d83ef0a7734dfabe499369749e7f6c663a"
   }
  },
  "orig_nbformat": 2
 },
 "nbformat": 4,
 "nbformat_minor": 2
}